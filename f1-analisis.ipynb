{
 "cells": [
  {
   "cell_type": "code",
   "execution_count": 34,
   "id": "eda735d8",
   "metadata": {},
   "outputs": [],
   "source": [
    "import requests\n",
    "import json\n",
    "import pandas as pd\n",
    "import warnings\n",
    "warnings.filterwarnings('ignore')"
   ]
  },
  {
   "cell_type": "code",
   "execution_count": 35,
   "id": "c3dcaa47",
   "metadata": {},
   "outputs": [],
   "source": [
    "races= {'season':[],#entero xxxxxxxxxx\n",
    "        'round': [],#entero xxxxxxxxxxxxx\n",
    "        'raceName':[],\n",
    "        'circuitId':[],\n",
    "        'lat':[],\n",
    "        'long':[],\n",
    "        'country':[],\n",
    "        'date':[],\n",
    "        'url':[]#letra xxxxxxx\n",
    "       }"
   ]
  },
  {
   "cell_type": "code",
   "execution_count": 36,
   "id": "bde183b3",
   "metadata": {},
   "outputs": [],
   "source": [
    "for year in list(range(2010,2023)):\n",
    "    url ='http://ergast.com/api/f1/{}.json'\n",
    "    response = requests.get(url.format(year))\n",
    "    content = json.loads(response.content)\n",
    "        \n",
    "    for i in content['MRData']['RaceTable']['Races']:\n",
    "        races['season'].append(int(i['season']))\n",
    "        races['round'].append(int(i['round']))\n",
    "        races['raceName'].append(i['Circuit']['circuitId'])\n",
    "        races['circuitId'].append(i['Circuit']['circuitId'])\n",
    "        races['lat'].append(i['Circuit']['Location']['lat'])\n",
    "        races['long'].append(i['Circuit']['Location']['long'])\n",
    "        races['country'].append(i['Circuit']['Location']['country'])\n",
    "        races['date'].append(i['date'])\n",
    "        races['url'].append(i['url'])   "
   ]
  },
  {
   "cell_type": "code",
   "execution_count": 37,
   "id": "1873add7",
   "metadata": {},
   "outputs": [],
   "source": [
    "url = 'https://ergast.com/api/f1/seasons.json'\n",
    "response = requests.get(url.format(2022))\n",
    "content = json.loads(response.content)"
   ]
  },
  {
   "cell_type": "code",
   "execution_count": 38,
   "id": "af6b38a3",
   "metadata": {},
   "outputs": [],
   "source": [
    "seasons = {'season':[],\n",
    "          'url':[]}"
   ]
  },
  {
   "cell_type": "code",
   "execution_count": 39,
   "id": "ae7d5649",
   "metadata": {},
   "outputs": [],
   "source": [
    "for item in content['MRData']['SeasonTable']['Seasons']:\n",
    "    seasons['season'].append(int(item['season']))\n",
    "    seasons['url'].append(item['url'])"
   ]
  },
  {
   "cell_type": "code",
   "execution_count": 40,
   "id": "f5ff6c74",
   "metadata": {},
   "outputs": [],
   "source": [
    "pd.DataFrame(races).to_csv('races.csv', index=False)"
   ]
  },
  {
   "cell_type": "code",
   "execution_count": 41,
   "id": "3af94a62",
   "metadata": {},
   "outputs": [],
   "source": [
    "pd.DataFrame(seasons).to_csv('seasons.csv', index=False)"
   ]
  }
 ],
 "metadata": {
  "kernelspec": {
   "display_name": "Python 3 (ipykernel)",
   "language": "python",
   "name": "python3"
  },
  "language_info": {
   "codemirror_mode": {
    "name": "ipython",
    "version": 3
   },
   "file_extension": ".py",
   "mimetype": "text/x-python",
   "name": "python",
   "nbconvert_exporter": "python",
   "pygments_lexer": "ipython3",
   "version": "3.9.13"
  }
 },
 "nbformat": 4,
 "nbformat_minor": 5
}
