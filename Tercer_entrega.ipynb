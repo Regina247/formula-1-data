{
 "cells": [
  {
   "cell_type": "code",
   "execution_count": 2,
   "id": "b076a98a",
   "metadata": {},
   "outputs": [],
   "source": [
    "import requests\n",
    "import json\n",
    "import pandas as pd\n",
    "import warnings\n",
    "warnings.filterwarnings('ignore')"
   ]
  },
  {
   "cell_type": "markdown",
   "id": "e99f5e92",
   "metadata": {},
   "source": [
    "# lapsTime"
   ]
  },
  {
   "cell_type": "code",
   "execution_count": 5,
   "id": "c11026f9",
   "metadata": {},
   "outputs": [],
   "source": [
    "url='http://ergast.com/api/f1/2022/1/laps.json'\n",
    "response= requests.get(url)\n",
    "content=json.loads(response.content)"
   ]
  },
  {
   "cell_type": "code",
   "execution_count": 11,
   "id": "146e43eb",
   "metadata": {},
   "outputs": [
    {
     "data": {
      "text/plain": [
       "[{'driverId': 'leclerc', 'position': '1', 'time': '1:39.070'},\n",
       " {'driverId': 'max_verstappen', 'position': '2', 'time': '1:40.236'},\n",
       " {'driverId': 'sainz', 'position': '3', 'time': '1:41.006'},\n",
       " {'driverId': 'hamilton', 'position': '4', 'time': '1:41.555'},\n",
       " {'driverId': 'kevin_magnussen', 'position': '5', 'time': '1:42.333'},\n",
       " {'driverId': 'perez', 'position': '6', 'time': '1:42.993'},\n",
       " {'driverId': 'russell', 'position': '7', 'time': '1:43.445'},\n",
       " {'driverId': 'gasly', 'position': '8', 'time': '1:44.270'},\n",
       " {'driverId': 'alonso', 'position': '9', 'time': '1:45.174'},\n",
       " {'driverId': 'ocon', 'position': '10', 'time': '1:46.170'},\n",
       " {'driverId': 'albon', 'position': '11', 'time': '1:47.636'},\n",
       " {'driverId': 'tsunoda', 'position': '12', 'time': '1:48.128'},\n",
       " {'driverId': 'mick_schumacher', 'position': '13', 'time': '1:48.826'},\n",
       " {'driverId': 'bottas', 'position': '14', 'time': '1:49.195'},\n",
       " {'driverId': 'hulkenberg', 'position': '15', 'time': '1:49.698'},\n",
       " {'driverId': 'norris', 'position': '16', 'time': '1:50.088'},\n",
       " {'driverId': 'stroll', 'position': '17', 'time': '1:50.439'},\n",
       " {'driverId': 'latifi', 'position': '18', 'time': '1:51.134'},\n",
       " {'driverId': 'zhou', 'position': '19', 'time': '1:51.374'},\n",
       " {'driverId': 'ricciardo', 'position': '20', 'time': '1:51.601'}]"
      ]
     },
     "execution_count": 11,
     "metadata": {},
     "output_type": "execute_result"
    }
   ],
   "source": [
    "content['MRData']['RaceTable']['Races'][0]['Laps'][0]['Timings']"
   ]
  },
  {
   "cell_type": "code",
   "execution_count": 12,
   "id": "c0f6ef7d",
   "metadata": {},
   "outputs": [],
   "source": [
    "laps = {'driverId':[],\n",
    "        'position':[],\n",
    "        'time':[]\n",
    "       }"
   ]
  },
  {
   "cell_type": "code",
   "execution_count": 13,
   "id": "883bf840",
   "metadata": {},
   "outputs": [],
   "source": [
    "for i in content['MRData']['RaceTable']['Races'][0]['Laps'][0]['Timings']:\n",
    "        laps['driverId'].append(i['driverId'])\n",
    "        laps['position'].append(int(i['position']))\n",
    "        laps['time'].append(i['time'])"
   ]
  },
  {
   "cell_type": "code",
   "execution_count": 15,
   "id": "e11510aa",
   "metadata": {},
   "outputs": [],
   "source": [
    "pd.DataFrame(laps).to_csv('laps.csv', index=False)"
   ]
  },
  {
   "cell_type": "markdown",
   "id": "f6d6a81d",
   "metadata": {},
   "source": [
    "# driverStandings"
   ]
  },
  {
   "cell_type": "code",
   "execution_count": 16,
   "id": "c0d078b0",
   "metadata": {},
   "outputs": [],
   "source": [
    "url='http://ergast.com/api/f1/driverStandings.json'\n",
    "response= requests.get(url)\n",
    "content=json.loads(response.content)"
   ]
  },
  {
   "cell_type": "code",
   "execution_count": null,
   "id": "8ea972fd",
   "metadata": {},
   "outputs": [],
   "source": [
    "content['MRData']['StandingsTable']['StandingsLists'][0]['DriverStandings']"
   ]
  },
  {
   "cell_type": "code",
   "execution_count": 25,
   "id": "dfbc2090",
   "metadata": {},
   "outputs": [],
   "source": [
    "driverStandings = {'driverId':[],\n",
    "        'points':[],\n",
    "        'position':[],\n",
    "        'positionText':[],\n",
    "        'wins':[]\n",
    "       }"
   ]
  },
  {
   "cell_type": "code",
   "execution_count": 26,
   "id": "24a3e8af",
   "metadata": {},
   "outputs": [],
   "source": [
    "for i in content['MRData']['StandingsTable']['StandingsLists'][0]['DriverStandings']:\n",
    "        driverStandings['driverId'].append(i['Driver']['driverId'])\n",
    "        driverStandings['points'].append(int(i['points']))\n",
    "        driverStandings['position'].append(int(i['position']))\n",
    "        driverStandings['positionText'].append(i['positionText'])\n",
    "        driverStandings['wins'].append(int(i['wins']))"
   ]
  },
  {
   "cell_type": "code",
   "execution_count": 27,
   "id": "38b43424",
   "metadata": {},
   "outputs": [],
   "source": [
    "pd.DataFrame(driverStandings).to_csv('driverStandings.csv', index=False)"
   ]
  },
  {
   "cell_type": "markdown",
   "id": "330a6a9f",
   "metadata": {},
   "source": [
    "# constructorStandings"
   ]
  },
  {
   "cell_type": "code",
   "execution_count": 28,
   "id": "2609858f",
   "metadata": {},
   "outputs": [],
   "source": [
    "url='http://ergast.com/api/f1/constructorStandings.json'\n",
    "response= requests.get(url)\n",
    "content=json.loads(response.content)"
   ]
  },
  {
   "cell_type": "code",
   "execution_count": null,
   "id": "a814315a",
   "metadata": {},
   "outputs": [],
   "source": [
    "content['MRData']['StandingsTable']['StandingsLists'][0]['ConstructorStandings']"
   ]
  },
  {
   "cell_type": "code",
   "execution_count": 30,
   "id": "f389e3b6",
   "metadata": {},
   "outputs": [],
   "source": [
    "constructorStandings = {'constructorId':[],\n",
    "        'points':[],\n",
    "        'position':[],\n",
    "        'positionText':[],\n",
    "        'wins':[]\n",
    "       }"
   ]
  },
  {
   "cell_type": "code",
   "execution_count": 31,
   "id": "963a1494",
   "metadata": {},
   "outputs": [],
   "source": [
    "for i in content['MRData']['StandingsTable']['StandingsLists'][0]['ConstructorStandings']:\n",
    "        constructorStandings['constructorId'].append(i['Constructor']['constructorId'])\n",
    "        constructorStandings['points'].append(int(i['points']))\n",
    "        constructorStandings['position'].append(int(i['position']))\n",
    "        constructorStandings['positionText'].append(i['positionText'])\n",
    "        constructorStandings['wins'].append(int(i['wins']))"
   ]
  },
  {
   "cell_type": "code",
   "execution_count": 32,
   "id": "94c989d9",
   "metadata": {},
   "outputs": [],
   "source": [
    "pd.DataFrame(constructorStandings).to_csv('constructorStandings.csv', index=False)"
   ]
  },
  {
   "cell_type": "markdown",
   "id": "aff3e1a1",
   "metadata": {},
   "source": [
    "# constructorResults"
   ]
  },
  {
   "cell_type": "code",
   "execution_count": 55,
   "id": "83584bdc",
   "metadata": {},
   "outputs": [],
   "source": [
    "url='http://ergast.com/api/f1/constructors.json'\n",
    "response= requests.get(url)\n",
    "content=json.loads(response.content)"
   ]
  },
  {
   "cell_type": "code",
   "execution_count": 56,
   "id": "dcb67ab2",
   "metadata": {},
   "outputs": [
    {
     "data": {
      "text/plain": [
       "{'xmlns': 'http://ergast.com/mrd/1.5',\n",
       " 'series': 'f1',\n",
       " 'url': 'http://ergast.com/api/f1/constructors.json',\n",
       " 'limit': '30',\n",
       " 'offset': '0',\n",
       " 'total': '211',\n",
       " 'ConstructorTable': {'Constructors': [{'constructorId': 'adams',\n",
       "    'url': 'http://en.wikipedia.org/wiki/Adams_(constructor)',\n",
       "    'name': 'Adams',\n",
       "    'nationality': 'American'},\n",
       "   {'constructorId': 'afm',\n",
       "    'url': 'http://en.wikipedia.org/wiki/Alex_von_Falkenhausen_Motorenbau',\n",
       "    'name': 'AFM',\n",
       "    'nationality': 'German'},\n",
       "   {'constructorId': 'ags',\n",
       "    'url': 'http://en.wikipedia.org/wiki/Automobiles_Gonfaronnaises_Sportives',\n",
       "    'name': 'AGS',\n",
       "    'nationality': 'French'},\n",
       "   {'constructorId': 'alfa',\n",
       "    'url': 'http://en.wikipedia.org/wiki/Alfa_Romeo_in_Formula_One',\n",
       "    'name': 'Alfa Romeo',\n",
       "    'nationality': 'Swiss'},\n",
       "   {'constructorId': 'alphatauri',\n",
       "    'url': 'http://en.wikipedia.org/wiki/Scuderia_AlphaTauri',\n",
       "    'name': 'AlphaTauri',\n",
       "    'nationality': 'Italian'},\n",
       "   {'constructorId': 'alpine',\n",
       "    'url': 'http://en.wikipedia.org/wiki/Alpine_F1_Team',\n",
       "    'name': 'Alpine F1 Team',\n",
       "    'nationality': 'French'},\n",
       "   {'constructorId': 'alta',\n",
       "    'url': 'http://en.wikipedia.org/wiki/Alta_auto_racing_team',\n",
       "    'name': 'Alta',\n",
       "    'nationality': 'British'},\n",
       "   {'constructorId': 'amon',\n",
       "    'url': 'http://en.wikipedia.org/wiki/Amon_(Formula_One_team)',\n",
       "    'name': 'Amon',\n",
       "    'nationality': 'New Zealander'},\n",
       "   {'constructorId': 'moda',\n",
       "    'url': 'http://en.wikipedia.org/wiki/Andrea_Moda_Formula',\n",
       "    'name': 'Andrea Moda',\n",
       "    'nationality': 'Italian'},\n",
       "   {'constructorId': 'apollon',\n",
       "    'url': 'http://en.wikipedia.org/wiki/Apollon_(Formula_One)',\n",
       "    'name': 'Apollon',\n",
       "    'nationality': 'Swiss'},\n",
       "   {'constructorId': 'arrows',\n",
       "    'url': 'http://en.wikipedia.org/wiki/Arrows_Grand_Prix_International',\n",
       "    'name': 'Arrows',\n",
       "    'nationality': 'British'},\n",
       "   {'constructorId': 'arzani-volpini',\n",
       "    'url': 'http://en.wikipedia.org/wiki/Arzani-Volpini',\n",
       "    'name': 'Arzani-Volpini',\n",
       "    'nationality': 'Italian'},\n",
       "   {'constructorId': 'butterworth',\n",
       "    'url': 'http://en.wikipedia.org/wiki/Aston_Butterworth',\n",
       "    'name': 'Aston Butterworth',\n",
       "    'nationality': 'British'},\n",
       "   {'constructorId': 'aston_martin',\n",
       "    'url': 'http://en.wikipedia.org/wiki/Aston_Martin_in_Formula_One',\n",
       "    'name': 'Aston Martin',\n",
       "    'nationality': 'British'},\n",
       "   {'constructorId': 'ats',\n",
       "    'url': 'http://en.wikipedia.org/wiki/ATS_(wheels)',\n",
       "    'name': 'ATS',\n",
       "    'nationality': 'Italian'},\n",
       "   {'constructorId': 'bar',\n",
       "    'url': 'http://en.wikipedia.org/wiki/British_American_Racing',\n",
       "    'name': 'BAR',\n",
       "    'nationality': 'British'},\n",
       "   {'constructorId': 'behra-porsche',\n",
       "    'url': 'http://en.wikipedia.org/wiki/Behra-Porsche',\n",
       "    'name': 'Behra-Porsche',\n",
       "    'nationality': 'Italian'},\n",
       "   {'constructorId': 'bellasi',\n",
       "    'url': 'http://en.wikipedia.org/wiki/Bellasi',\n",
       "    'name': 'Bellasi',\n",
       "    'nationality': 'Swiss'},\n",
       "   {'constructorId': 'benetton',\n",
       "    'url': 'http://en.wikipedia.org/wiki/Benetton_Formula',\n",
       "    'name': 'Benetton',\n",
       "    'nationality': 'Italian'},\n",
       "   {'constructorId': 'bmw',\n",
       "    'url': 'http://en.wikipedia.org/wiki/BMW',\n",
       "    'name': 'BMW',\n",
       "    'nationality': 'German'},\n",
       "   {'constructorId': 'bmw_sauber',\n",
       "    'url': 'http://en.wikipedia.org/wiki/BMW_Sauber',\n",
       "    'name': 'BMW Sauber',\n",
       "    'nationality': 'German'},\n",
       "   {'constructorId': 'boro',\n",
       "    'url': 'http://en.wikipedia.org/wiki/Boro_(Formula_One)',\n",
       "    'name': 'Boro',\n",
       "    'nationality': 'Dutch'},\n",
       "   {'constructorId': 'brabham',\n",
       "    'url': 'http://en.wikipedia.org/wiki/Brabham',\n",
       "    'name': 'Brabham',\n",
       "    'nationality': 'British'},\n",
       "   {'constructorId': 'brabham-alfa_romeo',\n",
       "    'url': 'http://en.wikipedia.org/wiki/Brabham',\n",
       "    'name': 'Brabham-Alfa Romeo',\n",
       "    'nationality': 'British'},\n",
       "   {'constructorId': 'brabham-brm',\n",
       "    'url': 'http://en.wikipedia.org/wiki/Brabham',\n",
       "    'name': 'Brabham-BRM',\n",
       "    'nationality': 'British'},\n",
       "   {'constructorId': 'brabham-climax',\n",
       "    'url': 'http://en.wikipedia.org/wiki/Brabham',\n",
       "    'name': 'Brabham-Climax',\n",
       "    'nationality': 'British'},\n",
       "   {'constructorId': 'brabham-ford',\n",
       "    'url': 'http://en.wikipedia.org/wiki/Brabham',\n",
       "    'name': 'Brabham-Ford',\n",
       "    'nationality': 'British'},\n",
       "   {'constructorId': 'brabham-repco',\n",
       "    'url': 'http://en.wikipedia.org/wiki/Brabham',\n",
       "    'name': 'Brabham-Repco',\n",
       "    'nationality': 'British'},\n",
       "   {'constructorId': 'brawn',\n",
       "    'url': 'http://en.wikipedia.org/wiki/Brawn_GP',\n",
       "    'name': 'Brawn',\n",
       "    'nationality': 'British'},\n",
       "   {'constructorId': 'brm',\n",
       "    'url': 'http://en.wikipedia.org/wiki/BRM',\n",
       "    'name': 'BRM',\n",
       "    'nationality': 'British'}]}}"
      ]
     },
     "execution_count": 56,
     "metadata": {},
     "output_type": "execute_result"
    }
   ],
   "source": [
    "content['MRData']"
   ]
  },
  {
   "cell_type": "code",
   "execution_count": 30,
   "id": "8439a922",
   "metadata": {},
   "outputs": [],
   "source": [
    "constructorResults = {'constructorId':[],\n",
    "        'points':[],\n",
    "        'status':[]\n",
    "       }"
   ]
  },
  {
   "cell_type": "code",
   "execution_count": 31,
   "id": "459c9935",
   "metadata": {},
   "outputs": [],
   "source": [
    "for i in content['MRData']:\n",
    "        constructorResults['constructorId'].append(i['Constructor']['constructorId'])\n",
    "        constructorResults['points'].append(int(i['points']))\n",
    "        constructorResults['status'].append(i['position'])\n"
   ]
  },
  {
   "cell_type": "code",
   "execution_count": 32,
   "id": "4841c0e6",
   "metadata": {},
   "outputs": [],
   "source": [
    "pd.DataFrame(constructorResults).to_csv('constructorResults.csv', index=False)"
   ]
  }
 ],
 "metadata": {
  "kernelspec": {
   "display_name": "Python 3 (ipykernel)",
   "language": "python",
   "name": "python3"
  },
  "language_info": {
   "codemirror_mode": {
    "name": "ipython",
    "version": 3
   },
   "file_extension": ".py",
   "mimetype": "text/x-python",
   "name": "python",
   "nbconvert_exporter": "python",
   "pygments_lexer": "ipython3",
   "version": "3.9.13"
  }
 },
 "nbformat": 4,
 "nbformat_minor": 5
}
