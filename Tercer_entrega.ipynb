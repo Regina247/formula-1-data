{
 "cells": [
  {
   "cell_type": "markdown",
   "id": "7814f9c5",
   "metadata": {},
   "source": [
    "# Tercer Entregable"
   ]
  },
  {
   "cell_type": "code",
   "execution_count": 9,
   "id": "b076a98a",
   "metadata": {},
   "outputs": [],
   "source": [
    "import requests\n",
    "import json\n",
    "import pandas as pd\n",
    "import warnings"
   ]
  },
  {
   "cell_type": "markdown",
   "id": "e99f5e92",
   "metadata": {},
   "source": [
    "# lapsTime"
   ]
  },
  {
   "cell_type": "code",
   "execution_count": 23,
   "id": "c0f6ef7d",
   "metadata": {},
   "outputs": [],
   "source": [
    "laps = {'raceId':[],\n",
    "          'driverId':[],\n",
    "         'position':[],\n",
    "          'time':[]}"
   ]
  },
  {
   "cell_type": "code",
   "execution_count": 24,
   "id": "3b1eb59a",
   "metadata": {},
   "outputs": [],
   "source": [
    "for year in range(2010,2023):\n",
    "    url = 'http://ergast.com/api/f1/{}/5/laps/1.json'\n",
    "    response = requests.get(url.format(year))\n",
    "    content=json.loads(response.content)\n",
    "    \n",
    "    for  item in content['MRData']['RaceTable']['Races'][0]['Laps'][0]['Timings']:\n",
    "        laps['raceId'].append(content['MRData']['RaceTable']['Races'][0]['raceName'])\n",
    "        laps['driverId'].append(item['driverId'])\n",
    "        laps['position'].append(item['position'])\n",
    "        laps['time'].append(item['time'])"
   ]
  },
  {
   "cell_type": "code",
   "execution_count": 25,
   "id": "e11510aa",
   "metadata": {},
   "outputs": [],
   "source": [
    "pd.DataFrame(laps).to_csv('laps.csv', index=False)"
   ]
  },
  {
   "cell_type": "markdown",
   "id": "f6d6a81d",
   "metadata": {},
   "source": [
    "# driverStandings"
   ]
  },
  {
   "cell_type": "code",
   "execution_count": 26,
   "id": "dfbc2090",
   "metadata": {},
   "outputs": [],
   "source": [
    "driverStandings = {'driverId':[],\n",
    "        'points':[],\n",
    "        'positions':[],\n",
    "        'positionText':[],\n",
    "        'wins':[]}"
   ]
  },
  {
   "cell_type": "code",
   "execution_count": 27,
   "id": "76d8576a",
   "metadata": {},
   "outputs": [],
   "source": [
    "for year in range(2010,2023):\n",
    "    url = 'http://ergast.com/api/f1/{}/driverStandings.json'\n",
    "    response = requests.get(url.format(year))\n",
    "    content=json.loads(response.content)\n",
    "    \n",
    "    for  item in content['MRData']['StandingsTable'][ 'StandingsLists'][0]['DriverStandings']:\n",
    "        driverStandings['driverId'].append(item['Driver']['driverId'])\n",
    "        driverStandings['points'].append(item['points'])\n",
    "        driverStandings['positions'].append(item['position'])\n",
    "        driverStandings['positionText'].append(item['positionText'])\n",
    "        driverStandings['wins'].append(item['wins'])"
   ]
  },
  {
   "cell_type": "code",
   "execution_count": 28,
   "id": "38b43424",
   "metadata": {},
   "outputs": [],
   "source": [
    "pd.DataFrame(driverStandings).to_csv('driverStandings.csv', index=False)"
   ]
  },
  {
   "cell_type": "markdown",
   "id": "330a6a9f",
   "metadata": {},
   "source": [
    "# constructorStandings"
   ]
  },
  {
   "cell_type": "code",
   "execution_count": 29,
   "id": "f389e3b6",
   "metadata": {},
   "outputs": [],
   "source": [
    "constructorStandings = {'constructorId':[],\n",
    "        'points':[],\n",
    "        'positions':[],\n",
    "        'positionText':[],\n",
    "        'wins':[]}"
   ]
  },
  {
   "cell_type": "code",
   "execution_count": 30,
   "id": "5424689c",
   "metadata": {},
   "outputs": [],
   "source": [
    "for year in range(2010,2023):\n",
    "    url = 'http://ergast.com/api/f1/{}/constructorStandings.json'\n",
    "    response = requests.get(url.format(year))\n",
    "    content=json.loads(response.content)\n",
    "    \n",
    "    for  item in content['MRData']['StandingsTable'][ 'StandingsLists'][0]['ConstructorStandings']:\n",
    "        constructorStandings['constructorId'].append(item['Constructor']['constructorId'])\n",
    "        constructorStandings['points'].append(item['points'])\n",
    "        constructorStandings['positions'].append(item['position'])\n",
    "        constructorStandings['positionText'].append(item['positionText'])\n",
    "        constructorStandings['wins'].append(item['wins'])"
   ]
  },
  {
   "cell_type": "code",
   "execution_count": 31,
   "id": "94c989d9",
   "metadata": {},
   "outputs": [],
   "source": [
    "pd.DataFrame(constructorStandings).to_csv('constructorStandings.csv', index=False)"
   ]
  },
  {
   "cell_type": "markdown",
   "id": "aff3e1a1",
   "metadata": {},
   "source": [
    "# constructorResults"
   ]
  },
  {
   "cell_type": "code",
   "execution_count": 32,
   "id": "8439a922",
   "metadata": {},
   "outputs": [],
   "source": [
    "constructorResults = {'raceId':[],\n",
    "        'constructorId':[],\n",
    "        'points':[],\n",
    "        'status':[]}"
   ]
  },
  {
   "cell_type": "code",
   "execution_count": 33,
   "id": "1dd98acd",
   "metadata": {},
   "outputs": [],
   "source": [
    "for year in range(2010,2023):\n",
    "    url= 'http://ergast.com/api/f1/{}/results.json'\n",
    "    response = requests.get(url.format(year))\n",
    "    content=json.loads(response.content)\n",
    "    \n",
    "    for item in content['MRData']['RaceTable']['Races'][0]['Results']:\n",
    "        constructorResults['raceId'].append(content['MRData']['RaceTable']['Races'][0]['raceName'])\n",
    "        constructorResults['constructorId'].append(item['Constructor']['constructorId'])\n",
    "        constructorResults['points'].append(int(item['points']))\n",
    "        constructorResults['status'].append(item['status'])\n",
    "    for item in content['MRData']['RaceTable']['Races'][1]['Results']:\n",
    "        constructorResults['raceId'].append(content['MRData']['RaceTable']['Races'][1]['raceName'])\n",
    "        constructorResults['constructorId'].append(item['Constructor']['constructorId'])\n",
    "        constructorResults['points'].append(int(item['points']))\n",
    "        constructorResults['status'].append(item['status'])"
   ]
  },
  {
   "cell_type": "code",
   "execution_count": 34,
   "id": "4841c0e6",
   "metadata": {},
   "outputs": [],
   "source": [
    "pd.DataFrame(constructorResults).to_csv('constructorResults.csv', index=False)"
   ]
  }
 ],
 "metadata": {
  "kernelspec": {
   "display_name": "Python 3 (ipykernel)",
   "language": "python",
   "name": "python3"
  },
  "language_info": {
   "codemirror_mode": {
    "name": "ipython",
    "version": 3
   },
   "file_extension": ".py",
   "mimetype": "text/x-python",
   "name": "python",
   "nbconvert_exporter": "python",
   "pygments_lexer": "ipython3",
   "version": "3.9.13"
  }
 },
 "nbformat": 4,
 "nbformat_minor": 5
}
