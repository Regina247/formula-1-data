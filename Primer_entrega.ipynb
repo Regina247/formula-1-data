{
 "cells": [
  {
   "cell_type": "code",
   "execution_count": 1,
   "id": "e549253d",
   "metadata": {},
   "outputs": [],
   "source": [
    "import requests\n",
    "import json\n",
    "import pandas as pd\n",
    "import warnings\n",
    "warnings.filterwarnings('ignore')"
   ]
  },
  {
   "cell_type": "markdown",
   "id": "a4faeb95",
   "metadata": {},
   "source": [
    "   ## Drivers"
   ]
  },
  {
   "cell_type": "code",
   "execution_count": 3,
   "id": "5f9eccad",
   "metadata": {},
   "outputs": [],
   "source": [
    "drivers = {'driverId':[],\n",
    "        'givenName':[],\n",
    "        'familyName':[],\n",
    "        'dateOfBirth':[],\n",
    "        'nationality':[],\n",
    "        'url':[]\n",
    "       }"
   ]
  },
  {
   "cell_type": "code",
   "execution_count": 4,
   "id": "74c63e77",
   "metadata": {},
   "outputs": [],
   "source": [
    "for year in list(range(2010,2023)):\n",
    "    url ='http://ergast.com/api/f1/drivers.json'\n",
    "    response = requests.get(url.format(year))\n",
    "    \n",
    "    content = json.loads(response.content)\n",
    "        \n",
    "    for i in content['MRData']['DriverTable']['Drivers']:\n",
    "        drivers['driverId'].append(i['driverId'])\n",
    "        drivers['givenName'].append(i['givenName'])\n",
    "        drivers['familyName'].append(i['familyName'])\n",
    "        drivers['dateOfBirth'].append(i['dateOfBirth'])\n",
    "        drivers['nationality'].append(i['nationality'])\n",
    "        drivers['url'].append(i['url']) "
   ]
  },
  {
   "cell_type": "code",
   "execution_count": 5,
   "id": "c8671bb7",
   "metadata": {},
   "outputs": [],
   "source": [
    "pd.DataFrame(drivers).to_csv('drivers.csv', index=False)"
   ]
  },
  {
   "cell_type": "markdown",
   "id": "8186c8a8",
   "metadata": {},
   "source": [
    "# Constructors"
   ]
  },
  {
   "cell_type": "code",
   "execution_count": 6,
   "id": "f66c6458",
   "metadata": {},
   "outputs": [],
   "source": [
    "constructors = {'constructorId':[],\n",
    "        'name':[],\n",
    "        'nationality':[],\n",
    "        'url':[]\n",
    "       }"
   ]
  },
  {
   "cell_type": "code",
   "execution_count": 7,
   "id": "39b59559",
   "metadata": {},
   "outputs": [],
   "source": [
    "for year in list(range(2010,2023)):\n",
    "    url ='http://ergast.com/api/f1/constructors.json'\n",
    "    response = requests.get(url.format(year))\n",
    "    \n",
    "    content = json.loads(response.content)\n",
    "        \n",
    "    for i in content['MRData']['ConstructorTable']['Constructors']:\n",
    "        constructors['constructorId'].append(i['constructorId'])\n",
    "        constructors['name'].append(i['name'])\n",
    "        constructors['nationality'].append(i['nationality'])\n",
    "        constructors['url'].append(i['url']) "
   ]
  },
  {
   "cell_type": "code",
   "execution_count": 8,
   "id": "791d18fa",
   "metadata": {},
   "outputs": [],
   "source": [
    "pd.DataFrame(constructors).to_csv('constructors.csv', index=False)"
   ]
  },
  {
   "cell_type": "markdown",
   "id": "f1f714d0",
   "metadata": {},
   "source": [
    "# Circuits"
   ]
  },
  {
   "cell_type": "code",
   "execution_count": 9,
   "id": "34c6eddd",
   "metadata": {},
   "outputs": [],
   "source": [
    "circuits = {'circuitId':[],\n",
    "        'circuitName':[],\n",
    "        'lat':[],\n",
    "        'long':[],\n",
    "        'locality':[],\n",
    "        'country':[],\n",
    "        'url':[]\n",
    "       }"
   ]
  },
  {
   "cell_type": "code",
   "execution_count": 10,
   "id": "2a551290",
   "metadata": {},
   "outputs": [],
   "source": [
    "for year in list(range(2010,2023)):\n",
    "    url ='http://ergast.com/api/f1/circuits.json'\n",
    "    response = requests.get(url.format(year))\n",
    "    \n",
    "    content = json.loads(response.content)\n",
    "        \n",
    "    for i in content['MRData']['CircuitTable']['Circuits']:\n",
    "        circuits['circuitId'].append(i['circuitId'])\n",
    "        circuits['circuitName'].append(i['circuitName'])\n",
    "        circuits['lat'].append(i['Location']['lat'])\n",
    "        circuits['long'].append(i['Location']['long'])\n",
    "        circuits['locality'].append(i['Location']['locality'])\n",
    "        circuits['country'].append(i['Location']['country'])\n",
    "        circuits['url'].append(i['url']) "
   ]
  },
  {
   "cell_type": "code",
   "execution_count": 11,
   "id": "5e558588",
   "metadata": {},
   "outputs": [],
   "source": [
    "pd.DataFrame(circuits).to_csv('circuits.csv', index=False)"
   ]
  },
  {
   "cell_type": "markdown",
   "id": "56653333",
   "metadata": {},
   "source": [
    "# Qualifying"
   ]
  },
  {
   "cell_type": "code",
   "execution_count": 12,
   "id": "93dc83c6",
   "metadata": {},
   "outputs": [],
   "source": [
    "qualifying = {'driverId':[],\n",
    "        'constructorId':[],\n",
    "        'number':[],\n",
    "        'position':[],\n",
    "       }"
   ]
  },
  {
   "cell_type": "code",
   "execution_count": 13,
   "id": "452fd4b0",
   "metadata": {},
   "outputs": [],
   "source": [
    "for year in list(range(2010,2023)):\n",
    "    url ='http://ergast.com/api/f1/qualifying.json'\n",
    "    response = requests.get(url.format(year))\n",
    "    \n",
    "    content = json.loads(response.content)\n",
    "        \n",
    "    for i in content['MRData']['RaceTable']['Races'][0]['QualifyingResults']:\n",
    "        qualifying['driverId'].append(i['Driver']['driverId'])\n",
    "        qualifying['constructorId'].append(i['Constructor']['constructorId'])\n",
    "        qualifying['number'].append(int(i['number']))\n",
    "        qualifying['position'].append(int(i['position']))"
   ]
  },
  {
   "cell_type": "code",
   "execution_count": 14,
   "id": "d00d2687",
   "metadata": {},
   "outputs": [],
   "source": [
    "pd.DataFrame(qualifying).to_csv('qualifying.csv', index=False)"
   ]
  }
 ],
 "metadata": {
  "kernelspec": {
   "display_name": "Python 3 (ipykernel)",
   "language": "python",
   "name": "python3"
  },
  "language_info": {
   "codemirror_mode": {
    "name": "ipython",
    "version": 3
   },
   "file_extension": ".py",
   "mimetype": "text/x-python",
   "name": "python",
   "nbconvert_exporter": "python",
   "pygments_lexer": "ipython3",
   "version": "3.9.13"
  }
 },
 "nbformat": 4,
 "nbformat_minor": 5
}
