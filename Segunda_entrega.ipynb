{
 "cells": [
  {
   "cell_type": "code",
   "execution_count": 1,
   "id": "1d34ba9c",
   "metadata": {},
   "outputs": [],
   "source": [
    "import requests\n",
    "import json\n",
    "import pandas as pd\n",
    "import warnings\n",
    "warnings.filterwarnings('ignore')"
   ]
  },
  {
   "cell_type": "markdown",
   "id": "6f49c53f",
   "metadata": {},
   "source": [
    "# Sprint Results"
   ]
  },
  {
   "cell_type": "code",
   "execution_count": 2,
   "id": "9ea66dd3",
   "metadata": {},
   "outputs": [],
   "source": [
    "sprint = {'driverId':[],\n",
    "        'constructorId':[],\n",
    "        'number':[],\n",
    "        'position':[],\n",
    "        'positionText':[],\n",
    "        'points':[]\n",
    "       }"
   ]
  },
  {
   "cell_type": "code",
   "execution_count": 3,
   "id": "2698960a",
   "metadata": {},
   "outputs": [],
   "source": [
    "for year in list(range(2010,2023)):\n",
    "    url ='http://ergast.com/api/f1/sprint.json'\n",
    "    response = requests.get(url.format(year))\n",
    "    \n",
    "    content = json.loads(response.content)\n",
    "        \n",
    "    for i in content['MRData']['RaceTable']['Races'][0]['SprintResults']:\n",
    "        sprint['driverId'].append(i['Driver']['driverId'])\n",
    "        sprint['constructorId'].append(i['Constructor']['constructorId'])\n",
    "        sprint['number'].append(int(i['number']))\n",
    "        sprint['position'].append(int(i['position']))\n",
    "        sprint['positionText'].append(i['positionText'])\n",
    "        sprint['points'].append(int(i['points']))"
   ]
  },
  {
   "cell_type": "code",
   "execution_count": 4,
   "id": "f425512c",
   "metadata": {},
   "outputs": [],
   "source": [
    "pd.DataFrame(sprint).to_csv('sprint.csv', index=False)"
   ]
  },
  {
   "cell_type": "markdown",
   "id": "5ebf178a",
   "metadata": {},
   "source": [
    "# Status"
   ]
  },
  {
   "cell_type": "code",
   "execution_count": 5,
   "id": "26a6674e",
   "metadata": {},
   "outputs": [],
   "source": [
    "status = {'statusId':[],\n",
    "        'count':[],\n",
    "        'status':[]\n",
    "       }"
   ]
  },
  {
   "cell_type": "code",
   "execution_count": 6,
   "id": "f8b94da8",
   "metadata": {},
   "outputs": [],
   "source": [
    "for year in list(range(2010,2023)):\n",
    "    url ='http://ergast.com/api/f1/status.json'\n",
    "    response = requests.get(url.format(year))\n",
    "    \n",
    "    content = json.loads(response.content)\n",
    "        \n",
    "    for i in content['MRData']['StatusTable']['Status']:\n",
    "        status['statusId'].append(int(i['statusId']))\n",
    "        status['count'].append(int(i['count']))\n",
    "        status['status'].append(i['status'])"
   ]
  },
  {
   "cell_type": "code",
   "execution_count": 7,
   "id": "c613bc5e",
   "metadata": {},
   "outputs": [],
   "source": [
    "pd.DataFrame(status).to_csv('status.csv', index=False)"
   ]
  },
  {
   "cell_type": "markdown",
   "id": "fd887945",
   "metadata": {},
   "source": [
    "# Results"
   ]
  },
  {
   "cell_type": "code",
   "execution_count": 8,
   "id": "e7ce1a25",
   "metadata": {},
   "outputs": [],
   "source": [
    "results = {'driverId':[],\n",
    "        'constructorId':[],\n",
    "        'number':[],\n",
    "        'position':[],\n",
    "        'positionText':[],\n",
    "        'points':[],\n",
    "        'grid':[],\n",
    "        'laps':[],\n",
    "        'status':[]\n",
    "       }"
   ]
  },
  {
   "cell_type": "code",
   "execution_count": 9,
   "id": "5b263456",
   "metadata": {},
   "outputs": [],
   "source": [
    "for year in list(range(2010,2023)):\n",
    "    url ='http://ergast.com/api/f1/results.json'\n",
    "    response = requests.get(url.format(year))\n",
    "    content = json.loads(response.content)\n",
    "        \n",
    "    for i in content['MRData']['RaceTable']['Races'][0]['Results']:\n",
    "        results['driverId'].append(i['Driver']['driverId'])\n",
    "        results['constructorId'].append(i['Constructor']['constructorId'])\n",
    "        results['number'].append(int(i['number']))\n",
    "        results['position'].append(int(i['position']))\n",
    "        results['positionText'].append(i['positionText'])\n",
    "        results['points'].append(int(i['points']))\n",
    "        results['grid'].append(int(i['grid']))\n",
    "        results['laps'].append(int(i['laps']))\n",
    "        results['status'].append(i['status'])"
   ]
  },
  {
   "cell_type": "code",
   "execution_count": 10,
   "id": "cd1ce9c1",
   "metadata": {},
   "outputs": [],
   "source": [
    "pd.DataFrame(results).to_csv('results.csv', index=False)"
   ]
  },
  {
   "cell_type": "markdown",
   "id": "6a7098c7",
   "metadata": {},
   "source": [
    "# Pit stops"
   ]
  },
  {
   "cell_type": "code",
   "execution_count": 11,
   "id": "693fb730",
   "metadata": {},
   "outputs": [],
   "source": [
    "pitStops = {'driverId':[],\n",
    "        'lap':[],\n",
    "        'stop':[],\n",
    "        'time':[],\n",
    "        'duration':[]\n",
    "       }"
   ]
  },
  {
   "cell_type": "code",
   "execution_count": null,
   "id": "a7129c9b",
   "metadata": {},
   "outputs": [],
   "source": [
    "for year in list(range(2010,2023)):\n",
    "    url ='http://ergast.com/api/f1/pitstops.json'\n",
    "    response = requests.get(url.format(year))\n",
    "    content = json.loads(response.content)\n",
    "        \n",
    "    for i in content['MRData']['RaceTable']['Races'][0]['PitStops']:\n",
    "        pitStops['driverId'].append(i['driverId'])\n",
    "        pitStops['lap'].append(int(i['lap']))\n",
    "        pitStops['stop'].append(int(i['stop']))\n",
    "        pitStops['time'].append(['time'])\n",
    "        pitStops['duration'].append(['duration'])"
   ]
  },
  {
   "cell_type": "code",
   "execution_count": 64,
   "id": "59881930",
   "metadata": {},
   "outputs": [],
   "source": [
    "pd.DataFrame(pitStops).to_csv('pitStops.csv', index=False)"
   ]
  }
 ],
 "metadata": {
  "kernelspec": {
   "display_name": "Python 3 (ipykernel)",
   "language": "python",
   "name": "python3"
  },
  "language_info": {
   "codemirror_mode": {
    "name": "ipython",
    "version": 3
   },
   "file_extension": ".py",
   "mimetype": "text/x-python",
   "name": "python",
   "nbconvert_exporter": "python",
   "pygments_lexer": "ipython3",
   "version": "3.9.13"
  }
 },
 "nbformat": 4,
 "nbformat_minor": 5
}
